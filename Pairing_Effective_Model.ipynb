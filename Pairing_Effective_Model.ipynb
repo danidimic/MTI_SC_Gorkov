{
 "cells": [
  {
   "cell_type": "markdown",
   "id": "9bf76be6-6839-4591-bd92-e6ffd603753f",
   "metadata": {},
   "source": [
    "# **Effective Model**"
   ]
  },
  {
   "cell_type": "code",
   "execution_count": 1,
   "id": "ef65db31-6586-4a4c-8c2c-fcde0f07606b",
   "metadata": {},
   "outputs": [],
   "source": [
    "import numpy as np\n",
    "import matplotlib.pyplot as plt\n",
    "\n",
    "from MTI_Second_Order import FMTI2_NeumannBC, Change_Basis, Block_Reverse\n",
    "\n",
    "# labels for curves\n",
    "Flabels = [[\"$f_{\\\\uparrow +, \\\\uparrow +}$\", \"$f_{\\\\uparrow +, \\downarrow +}$\", \"$f_{\\\\uparrow +, \\\\uparrow -}$\", \"$f_{\\\\uparrow +, \\downarrow -}$\"],\n",
    "          [\"$f_{\\downarrow +, \\\\uparrow +}$\", \"$f_{\\downarrow +, \\downarrow +}$\", \"$f_{\\downarrow +, \\\\uparrow -}$\", \"$f_{\\downarrow +, \\downarrow -}$\"],\n",
    "          [\"$f_{\\\\uparrow -, \\\\uparrow +}$\", \"$f_{\\\\uparrow -, \\downarrow +}$\", \"$f_{\\\\uparrow -, \\\\uparrow -}$\", \"$f_{\\\\uparrow -, \\downarrow -}$\"],\n",
    "          [\"$f_{\\downarrow -, \\\\uparrow +}$\", \"$f_{\\downarrow -, \\downarrow +}$\", \"$f_{\\downarrow -, \\\\uparrow -}$\", \"$f_{\\downarrow -, \\downarrow -}$\"]]\n",
    "\n",
    "# colors for plotting\n",
    "colors = [\"#0077FF\", \"#00CC00\", \"#FFD700\", \"#FF2200\"]"
   ]
  },
  {
   "cell_type": "markdown",
   "id": "7ae90ed9-18e9-41ec-b529-5d6b30f5ae9b",
   "metadata": {},
   "source": [
    "## **Channel Decomposition** \n",
    "\n",
    "We decompose the averaged induced pairing $\\overline{\\Delta}_{ind} (z)$ over a basis of 16 matrices that generates the whole space made by the outer product of spin $\\sigma = \\uparrow, \\downarrow$ and orbital $\\lambda=\\pm$.\n",
    "The $4 \\times 4$ matrix can be decomposed as\n",
    "$$\n",
    "    \\overline{\\Delta}_{ind} (z) = \\sum_A f_A (z) \\Lambda_A \\,,\n",
    "$$\n",
    "where the coefficients of the expansion can be computed through\n",
    "$$\n",
    "    f_A (z) = \n",
    "    \\frac{ \\text{Tr}\\left( \\Lambda_A^\\dagger \\, \\Delta_{ind} (z)  \\right) }\n",
    "    { \\text{Tr}\\left( \\Lambda_A^\\dagger \\, \\Lambda_A  \\right) }\n",
    "$$and $\\{ \\Lambda_A \\}$ is a basis of 16 matrices that generates the whole space.\n",
    "\n",
    "\n",
    "For the sake of simplicity, we choose as basis in spin and orbital spaces the set of Pauli matrices \n",
    "$$\n",
    "    S_a = \n",
    "    \\left\\{ \n",
    "    \\sigma_0, \\sigma_x, \\sigma_y, \\sigma_z \n",
    "    \\right\\} \\,,\n",
    "    \\qquad\n",
    "    T_a = \n",
    "    \\left\\{ \n",
    "    \\tau_0, \\tau_x, \\tau_y, \\tau_z \n",
    "    \\right\\} \\,,   \n",
    "$$\n",
    "so that the full set of matrices $\\{ \\Lambda_A \\}$ can be simply obtained as the outer product\n",
    "$$\n",
    "    \\Lambda_A = \\frac{1}{2} \\left( S_a \\otimes L_\\alpha \\right) \\,,\n",
    "$$\n",
    "where the factor $\\frac12$ is used to normalize the Hilbert-Schmidt inner product of the matrices $\\Lambda_A$.\n",
    "Here $a \\in \\{ \\sigma_0, \\sigma_x, \\sigma_y, \\sigma_z \\}$ and $\\alpha \\in \\{ \\tau_0, \\tau_x, \\tau_y, \\tau_z \\}$ denote the matrices of the spin and orbital subspaces.\n",
    "\n",
    "\n",
    "#### <font color='green'> **Pairing Channels** </font> "
   ]
  },
  {
   "cell_type": "code",
   "execution_count": 9,
   "id": "521da19c-0426-47d9-a1d5-ff4baab01bea",
   "metadata": {},
   "outputs": [
    {
     "data": {
      "text/latex": [
       "$\\displaystyle \n",
       "    \\Lambda_A \n",
       "    \\;=\\;\n",
       "    \\frac{i}{\\sqrt{2}} \\sigma_y  \\otimes \\frac12 \\left( \\tau_0 + \\tau_z \\right) \n",
       "    $"
      ],
      "text/plain": [
       "<IPython.core.display.Math object>"
      ]
     },
     "metadata": {},
     "output_type": "display_data"
    },
    {
     "data": {
      "text/latex": [
       "$\\displaystyle \n",
       "    f_A(z)\n",
       "    \\;=\\;\n",
       "    \\mathrm{Tr}\\!\\left[\n",
       "      \\Lambda_A^\\dagger \\, \n",
       "      \\Delta_{\\mathrm{ind}}(z)\n",
       "    \\right]\n",
       "    \\;=\\;\n",
       "    \\frac{\\sqrt{2} \\left(- f_{\\downarrow+,\\uparrow+} + f_{\\uparrow+,\\downarrow+}\\right)}{2} \\,,\n",
       "    \\qquad\n",
       "    \\mathrm{Tr}\\!\\left[\n",
       "      \\Lambda_A^\\dagger \\, \\Lambda_A\n",
       "    \\right]\n",
       "    \\;=\\;\n",
       "    1\n",
       "    $"
      ],
      "text/plain": [
       "<IPython.core.display.Math object>"
      ]
     },
     "metadata": {},
     "output_type": "display_data"
    },
    {
     "name": "stdout",
     "output_type": "stream",
     "text": [
      "\n"
     ]
    },
    {
     "data": {
      "text/latex": [
       "$\\displaystyle \n",
       "    \\frac{i}{\\sqrt{2}} \\sigma_y  \\otimes \\frac12 \\left( \\tau_0 + \\tau_z \\right)  \n",
       "    \\;=\\;\n",
       "    \\left[\\begin{matrix}0 & 0 & \\frac{\\sqrt{2}}{2} & 0\\\\0 & 0 & 0 & 0\\\\- \\frac{\\sqrt{2}}{2} & 0 & 0 & 0\\\\0 & 0 & 0 & 0\\end{matrix}\\right]\n",
       "    $"
      ],
      "text/plain": [
       "<IPython.core.display.Math object>"
      ]
     },
     "metadata": {},
     "output_type": "display_data"
    }
   ],
   "source": [
    "from IPython.display import Math, display\n",
    "from sympy import Matrix, Symbol, latex, simplify, nsimplify, sqrt\n",
    "from Pairing_Effective_Model import Simpy_Projection, Render_Projection, Render_Channel, Pairing_Projection, Pairing_Channel, Project_All, Reconstruct\n",
    "\n",
    "# define your physical basis labels (spin x orbital)\n",
    "basis = [r\"\\uparrow+\", r\"\\uparrow-\", r\"\\downarrow+\", r\"\\downarrow-\"]\n",
    "\n",
    "# build a 4×4 Matrix of Symbols f_{α,β}\n",
    "M = Matrix([[ Symbol(f\"f_{{{i},{j}}}\") for j in basis ] for i in basis ])\n",
    "\n",
    "# spin and ordital indices\n",
    "s = 'asym'; o = '++'\n",
    "\n",
    "# projection \n",
    "Render_Projection(M=M, spin=s, orbital=o)\n",
    "print()\n",
    "# pairing channel\n",
    "Render_Channel(spin=s, orbital=o)"
   ]
  },
  {
   "cell_type": "markdown",
   "id": "2dce3528-2495-4e4c-9346-99caac5ff107",
   "metadata": {},
   "source": [
    "#### <font color='green'> **Singlet-Triplet Decomposition** </font> "
   ]
  },
  {
   "cell_type": "code",
   "execution_count": 12,
   "id": "32fc4b8f-dcb5-4aaa-81ce-d30bc0c4cca0",
   "metadata": {},
   "outputs": [
    {
     "name": "stdout",
     "output_type": "stream",
     "text": [
      "Singlet S=0\n"
     ]
    },
    {
     "data": {
      "text/latex": [
       "$\\displaystyle \\left[\\begin{matrix}\\frac{\\sqrt{2} \\left(- f_{\\downarrow+,\\uparrow+} + f_{\\uparrow+,\\downarrow+}\\right)}{2} & \\frac{\\sqrt{2} \\left(- f_{\\downarrow+,\\uparrow-} + f_{\\uparrow+,\\downarrow-}\\right)}{2}\\\\\\frac{\\sqrt{2} \\left(- f_{\\downarrow-,\\uparrow+} + f_{\\uparrow-,\\downarrow+}\\right)}{2} & \\frac{\\sqrt{2} \\left(- f_{\\downarrow-,\\uparrow-} + f_{\\uparrow-,\\downarrow-}\\right)}{2}\\end{matrix}\\right]$"
      ],
      "text/plain": [
       "⎡√2⋅(-f_{\\downarrow+,\\uparrow+} + f_{\\uparrow+,\\downarrow+})  √2⋅(-f_{\\downarrow+,\\uparrow-} + f_{\\uparrow+,\\downarrow-})⎤\n",
       "⎢───────────────────────────────────────────────────────────  ───────────────────────────────────────────────────────────⎥\n",
       "⎢                             2                                                            2                             ⎥\n",
       "⎢                                                                                                                        ⎥\n",
       "⎢√2⋅(-f_{\\downarrow-,\\uparrow+} + f_{\\uparrow-,\\downarrow+})  √2⋅(-f_{\\downarrow-,\\uparrow-} + f_{\\uparrow-,\\downarrow-})⎥\n",
       "⎢───────────────────────────────────────────────────────────  ───────────────────────────────────────────────────────────⎥\n",
       "⎣                             2                                                            2                             ⎦"
      ]
     },
     "metadata": {},
     "output_type": "display_data"
    },
    {
     "data": {
      "text/latex": [
       "$\\displaystyle \\frac{\\left|{f_{\\downarrow+,\\uparrow+} - f_{\\uparrow+,\\downarrow+}}\\right|^{2}}{2} + \\frac{\\left|{f_{\\downarrow+,\\uparrow-} - f_{\\uparrow+,\\downarrow-}}\\right|^{2}}{2} + \\frac{\\left|{f_{\\downarrow-,\\uparrow+} - f_{\\uparrow-,\\downarrow+}}\\right|^{2}}{2} + \\frac{\\left|{f_{\\downarrow-,\\uparrow-} - f_{\\uparrow-,\\downarrow-}}\\right|^{2}}{2}$"
      ],
      "text/plain": [
       "                                                       2                                                          2                                         \n",
       "│f_{\\downarrow+,\\uparrow+} - f_{\\uparrow+,\\downarrow+}│    │f_{\\downarrow+,\\uparrow-} - f_{\\uparrow+,\\downarrow-}│    │f_{\\downarrow-,\\uparrow+} - f_{\\uparr\n",
       "──────────────────────────────────────────────────────── + ──────────────────────────────────────────────────────── + ──────────────────────────────────────\n",
       "                           2                                                          2                                                          2          \n",
       "\n",
       "                 2                                                          2\n",
       "ow-,\\downarrow+}│    │f_{\\downarrow-,\\uparrow-} - f_{\\uparrow-,\\downarrow-}│ \n",
       "────────────────── + ────────────────────────────────────────────────────────\n",
       "                                                2                            "
      ]
     },
     "metadata": {},
     "output_type": "display_data"
    },
    {
     "name": "stdout",
     "output_type": "stream",
     "text": [
      "\n",
      "Triplet S=0\n"
     ]
    },
    {
     "data": {
      "text/latex": [
       "$\\displaystyle \\left[\\begin{matrix}\\frac{\\sqrt{2} \\left(f_{\\downarrow+,\\uparrow+} + f_{\\uparrow+,\\downarrow+}\\right)}{2} & \\frac{\\sqrt{2} \\left(f_{\\downarrow+,\\uparrow-} + f_{\\uparrow+,\\downarrow-}\\right)}{2}\\\\\\frac{\\sqrt{2} \\left(f_{\\downarrow-,\\uparrow+} + f_{\\uparrow-,\\downarrow+}\\right)}{2} & \\frac{\\sqrt{2} \\left(f_{\\downarrow-,\\uparrow-} + f_{\\uparrow-,\\downarrow-}\\right)}{2}\\end{matrix}\\right]$"
      ],
      "text/plain": [
       "⎡√2⋅(f_{\\downarrow+,\\uparrow+} + f_{\\uparrow+,\\downarrow+})  √2⋅(f_{\\downarrow+,\\uparrow-} + f_{\\uparrow+,\\downarrow-})⎤\n",
       "⎢──────────────────────────────────────────────────────────  ──────────────────────────────────────────────────────────⎥\n",
       "⎢                            2                                                           2                             ⎥\n",
       "⎢                                                                                                                      ⎥\n",
       "⎢√2⋅(f_{\\downarrow-,\\uparrow+} + f_{\\uparrow-,\\downarrow+})  √2⋅(f_{\\downarrow-,\\uparrow-} + f_{\\uparrow-,\\downarrow-})⎥\n",
       "⎢──────────────────────────────────────────────────────────  ──────────────────────────────────────────────────────────⎥\n",
       "⎣                            2                                                           2                             ⎦"
      ]
     },
     "metadata": {},
     "output_type": "display_data"
    },
    {
     "data": {
      "text/latex": [
       "$\\displaystyle \\frac{\\left|{f_{\\downarrow+,\\uparrow+} + f_{\\uparrow+,\\downarrow+}}\\right|^{2}}{2} + \\frac{\\left|{f_{\\downarrow+,\\uparrow-} + f_{\\uparrow+,\\downarrow-}}\\right|^{2}}{2} + \\frac{\\left|{f_{\\downarrow-,\\uparrow+} + f_{\\uparrow-,\\downarrow+}}\\right|^{2}}{2} + \\frac{\\left|{f_{\\downarrow-,\\uparrow-} + f_{\\uparrow-,\\downarrow-}}\\right|^{2}}{2}$"
      ],
      "text/plain": [
       "                                                       2                                                          2                                         \n",
       "│f_{\\downarrow+,\\uparrow+} + f_{\\uparrow+,\\downarrow+}│    │f_{\\downarrow+,\\uparrow-} + f_{\\uparrow+,\\downarrow-}│    │f_{\\downarrow-,\\uparrow+} + f_{\\uparr\n",
       "──────────────────────────────────────────────────────── + ──────────────────────────────────────────────────────── + ──────────────────────────────────────\n",
       "                           2                                                          2                                                          2          \n",
       "\n",
       "                 2                                                          2\n",
       "ow-,\\downarrow+}│    │f_{\\downarrow-,\\uparrow-} + f_{\\uparrow-,\\downarrow-}│ \n",
       "────────────────── + ────────────────────────────────────────────────────────\n",
       "                                                2                            "
      ]
     },
     "metadata": {},
     "output_type": "display_data"
    },
    {
     "name": "stdout",
     "output_type": "stream",
     "text": [
      "\n",
      "Triplet S=+1\n"
     ]
    },
    {
     "data": {
      "text/latex": [
       "$\\displaystyle \\left[\\begin{matrix}f_{\\uparrow+,\\uparrow+} & f_{\\uparrow+,\\uparrow-}\\\\f_{\\uparrow-,\\uparrow+} & f_{\\uparrow-,\\uparrow-}\\end{matrix}\\right]$"
      ],
      "text/plain": [
       "⎡f_{\\uparrow+,\\uparrow+}  f_{\\uparrow+,\\uparrow-}⎤\n",
       "⎢                                                ⎥\n",
       "⎣f_{\\uparrow-,\\uparrow+}  f_{\\uparrow-,\\uparrow-}⎦"
      ]
     },
     "metadata": {},
     "output_type": "display_data"
    },
    {
     "data": {
      "text/latex": [
       "$\\displaystyle \\left|{f_{\\uparrow+,\\uparrow+}}\\right|^{2} + \\left|{f_{\\uparrow+,\\uparrow-}}\\right|^{2} + \\left|{f_{\\uparrow-,\\uparrow+}}\\right|^{2} + \\left|{f_{\\uparrow-,\\uparrow-}}\\right|^{2}$"
      ],
      "text/plain": [
       "                         2                            2                            2                            2\n",
       "│f_{\\uparrow+,\\uparrow+}│  + │f_{\\uparrow+,\\uparrow-}│  + │f_{\\uparrow-,\\uparrow+}│  + │f_{\\uparrow-,\\uparrow-}│ "
      ]
     },
     "metadata": {},
     "output_type": "display_data"
    },
    {
     "name": "stdout",
     "output_type": "stream",
     "text": [
      "\n",
      "Triplet S=-1\n"
     ]
    },
    {
     "data": {
      "text/latex": [
       "$\\displaystyle \\left[\\begin{matrix}f_{\\downarrow+,\\downarrow+} & f_{\\downarrow+,\\downarrow-}\\\\f_{\\downarrow-,\\downarrow+} & f_{\\downarrow-,\\downarrow-}\\end{matrix}\\right]$"
      ],
      "text/plain": [
       "⎡f_{\\downarrow+,\\downarrow+}  f_{\\downarrow+,\\downarrow-}⎤\n",
       "⎢                                                        ⎥\n",
       "⎣f_{\\downarrow-,\\downarrow+}  f_{\\downarrow-,\\downarrow-}⎦"
      ]
     },
     "metadata": {},
     "output_type": "display_data"
    },
    {
     "data": {
      "text/latex": [
       "$\\displaystyle \\left|{f_{\\downarrow+,\\downarrow+}}\\right|^{2} + \\left|{f_{\\downarrow+,\\downarrow-}}\\right|^{2} + \\left|{f_{\\downarrow-,\\downarrow+}}\\right|^{2} + \\left|{f_{\\downarrow-,\\downarrow-}}\\right|^{2}$"
      ],
      "text/plain": [
       "                             2                                2                                2                                2\n",
       "│f_{\\downarrow+,\\downarrow+}│  + │f_{\\downarrow+,\\downarrow-}│  + │f_{\\downarrow-,\\downarrow+}│  + │f_{\\downarrow-,\\downarrow-}│ "
      ]
     },
     "metadata": {},
     "output_type": "display_data"
    }
   ],
   "source": [
    "# build a 4×4 Matrix of Symbols f_{α,β}\n",
    "F = Matrix([[ Symbol(f\"f_{{{i},{j}}}\") for j in basis ] for i in basis ])\n",
    "\n",
    "# swap spin only\n",
    "F_swap = Matrix(Block_Reverse(F))\n",
    "\n",
    "# matrices for signlet\n",
    "F_odd = 1/2*(F - F_swap)\n",
    "# matrices for triplet\n",
    "F_even = 1/2*(F + F_swap)\n",
    "\n",
    "# spin singlet S=0 part\n",
    "Fs_0 = (sqrt(2)*F_odd[0:2, 2:4]).applyfunc(simplify); fs_0 = (Fs_0.norm())**2\n",
    "\n",
    "# spin triplet S=0 part\n",
    "Ft_0 = (sqrt(2)*F_even[0:2, 2:4]).applyfunc(simplify); ft_0 = (Ft_0.norm())**2\n",
    "\n",
    "# spin triplet S=1 part\n",
    "Ft_p1 = (F_even[0:2, 0:2]).applyfunc(simplify); ft_p1 = (Ft_p1.norm())**2\n",
    "\n",
    "# spin triplet S=-1 part\n",
    "Ft_m1 = (F_even[2:4, 2:4]).applyfunc(simplify); ft_m1 = (Ft_m1.norm())**2\n",
    "\n",
    "\n",
    "print('Singlet S=0')\n",
    "display(Matrix(Fs_0.applyfunc(nsimplify)))\n",
    "display(nsimplify(fs_0))\n",
    "print()\n",
    "\n",
    "print('Triplet S=0')\n",
    "display(Matrix(Ft_0.applyfunc(nsimplify)))\n",
    "display(nsimplify(ft_0))\n",
    "print()\n",
    "\n",
    "print('Triplet S=+1')\n",
    "display(Matrix(Ft_p1.applyfunc(nsimplify)))\n",
    "display(nsimplify(ft_p1))\n",
    "print()\n",
    "\n",
    "print('Triplet S=-1')\n",
    "display(Matrix(Ft_m1.applyfunc(nsimplify)))\n",
    "display(nsimplify(ft_m1))"
   ]
  },
  {
   "cell_type": "markdown",
   "id": "03492faa-587b-432a-a4ae-703f6b71fa8a",
   "metadata": {},
   "source": [
    "#### <font color='green'> **Singlet-Triplet Projection** </font> "
   ]
  },
  {
   "cell_type": "code",
   "execution_count": 13,
   "id": "1dee82fe-167c-40cc-bf30-9970ffad3ec7",
   "metadata": {},
   "outputs": [
    {
     "name": "stdout",
     "output_type": "stream",
     "text": [
      "Singlet S=0\n",
      "\n",
      "Projection:\n"
     ]
    },
    {
     "data": {
      "text/latex": [
       "$\\displaystyle \\frac{\\left|{f_{\\downarrow+,\\uparrow+} - f_{\\uparrow+,\\downarrow+}}\\right|^{2}}{2} + \\frac{\\left|{f_{\\downarrow+,\\uparrow-} - f_{\\uparrow+,\\downarrow-}}\\right|^{2}}{2} + \\frac{\\left|{f_{\\downarrow-,\\uparrow+} - f_{\\uparrow-,\\downarrow+}}\\right|^{2}}{2} + \\frac{\\left|{f_{\\downarrow-,\\uparrow-} - f_{\\uparrow-,\\downarrow-}}\\right|^{2}}{2}$"
      ],
      "text/plain": [
       "                                                       2                                                          2                                         \n",
       "│f_{\\downarrow+,\\uparrow+} - f_{\\uparrow+,\\downarrow+}│    │f_{\\downarrow+,\\uparrow-} - f_{\\uparrow+,\\downarrow-}│    │f_{\\downarrow-,\\uparrow+} - f_{\\uparr\n",
       "──────────────────────────────────────────────────────── + ──────────────────────────────────────────────────────── + ──────────────────────────────────────\n",
       "                           2                                                          2                                                          2          \n",
       "\n",
       "                 2                                                          2\n",
       "ow-,\\downarrow+}│    │f_{\\downarrow-,\\uparrow-} - f_{\\uparrow-,\\downarrow-}│ \n",
       "────────────────── + ────────────────────────────────────────────────────────\n",
       "                                                2                            "
      ]
     },
     "metadata": {},
     "output_type": "display_data"
    },
    {
     "name": "stdout",
     "output_type": "stream",
     "text": [
      "Matrix Decomposition:\n"
     ]
    },
    {
     "data": {
      "text/latex": [
       "$\\displaystyle \\frac{\\left|{f_{\\downarrow+,\\uparrow+} - f_{\\uparrow+,\\downarrow+}}\\right|^{2}}{2} + \\frac{\\left|{f_{\\downarrow+,\\uparrow-} - f_{\\uparrow+,\\downarrow-}}\\right|^{2}}{2} + \\frac{\\left|{f_{\\downarrow-,\\uparrow+} - f_{\\uparrow-,\\downarrow+}}\\right|^{2}}{2} + \\frac{\\left|{f_{\\downarrow-,\\uparrow-} - f_{\\uparrow-,\\downarrow-}}\\right|^{2}}{2}$"
      ],
      "text/plain": [
       "                                                       2                                                          2                                         \n",
       "│f_{\\downarrow+,\\uparrow+} - f_{\\uparrow+,\\downarrow+}│    │f_{\\downarrow+,\\uparrow-} - f_{\\uparrow+,\\downarrow-}│    │f_{\\downarrow-,\\uparrow+} - f_{\\uparr\n",
       "──────────────────────────────────────────────────────── + ──────────────────────────────────────────────────────── + ──────────────────────────────────────\n",
       "                           2                                                          2                                                          2          \n",
       "\n",
       "                 2                                                          2\n",
       "ow-,\\downarrow+}│    │f_{\\downarrow-,\\uparrow-} - f_{\\uparrow-,\\downarrow-}│ \n",
       "────────────────── + ────────────────────────────────────────────────────────\n",
       "                                                2                            "
      ]
     },
     "metadata": {},
     "output_type": "display_data"
    },
    {
     "name": "stdout",
     "output_type": "stream",
     "text": [
      "\n",
      "Triplet S=0\n",
      "\n",
      "Projection:\n"
     ]
    },
    {
     "data": {
      "text/latex": [
       "$\\displaystyle \\frac{\\left|{f_{\\downarrow+,\\uparrow+} + f_{\\uparrow+,\\downarrow+}}\\right|^{2}}{2} + \\frac{\\left|{f_{\\downarrow+,\\uparrow-} + f_{\\uparrow+,\\downarrow-}}\\right|^{2}}{2} + \\frac{\\left|{f_{\\downarrow-,\\uparrow+} + f_{\\uparrow-,\\downarrow+}}\\right|^{2}}{2} + \\frac{\\left|{f_{\\downarrow-,\\uparrow-} + f_{\\uparrow-,\\downarrow-}}\\right|^{2}}{2}$"
      ],
      "text/plain": [
       "                                                       2                                                          2                                         \n",
       "│f_{\\downarrow+,\\uparrow+} + f_{\\uparrow+,\\downarrow+}│    │f_{\\downarrow+,\\uparrow-} + f_{\\uparrow+,\\downarrow-}│    │f_{\\downarrow-,\\uparrow+} + f_{\\uparr\n",
       "──────────────────────────────────────────────────────── + ──────────────────────────────────────────────────────── + ──────────────────────────────────────\n",
       "                           2                                                          2                                                          2          \n",
       "\n",
       "                 2                                                          2\n",
       "ow-,\\downarrow+}│    │f_{\\downarrow-,\\uparrow-} + f_{\\uparrow-,\\downarrow-}│ \n",
       "────────────────── + ────────────────────────────────────────────────────────\n",
       "                                                2                            "
      ]
     },
     "metadata": {},
     "output_type": "display_data"
    },
    {
     "name": "stdout",
     "output_type": "stream",
     "text": [
      "Matrix Decomposition:\n"
     ]
    },
    {
     "data": {
      "text/latex": [
       "$\\displaystyle \\frac{\\left|{f_{\\downarrow+,\\uparrow+} + f_{\\uparrow+,\\downarrow+}}\\right|^{2}}{2} + \\frac{\\left|{f_{\\downarrow+,\\uparrow-} + f_{\\uparrow+,\\downarrow-}}\\right|^{2}}{2} + \\frac{\\left|{f_{\\downarrow-,\\uparrow+} + f_{\\uparrow-,\\downarrow+}}\\right|^{2}}{2} + \\frac{\\left|{f_{\\downarrow-,\\uparrow-} + f_{\\uparrow-,\\downarrow-}}\\right|^{2}}{2}$"
      ],
      "text/plain": [
       "                                                       2                                                          2                                         \n",
       "│f_{\\downarrow+,\\uparrow+} + f_{\\uparrow+,\\downarrow+}│    │f_{\\downarrow+,\\uparrow-} + f_{\\uparrow+,\\downarrow-}│    │f_{\\downarrow-,\\uparrow+} + f_{\\uparr\n",
       "──────────────────────────────────────────────────────── + ──────────────────────────────────────────────────────── + ──────────────────────────────────────\n",
       "                           2                                                          2                                                          2          \n",
       "\n",
       "                 2                                                          2\n",
       "ow-,\\downarrow+}│    │f_{\\downarrow-,\\uparrow-} + f_{\\uparrow-,\\downarrow-}│ \n",
       "────────────────── + ────────────────────────────────────────────────────────\n",
       "                                                2                            "
      ]
     },
     "metadata": {},
     "output_type": "display_data"
    },
    {
     "name": "stdout",
     "output_type": "stream",
     "text": [
      "\n",
      "Triplet S=+1\n",
      "\n",
      "Projection:\n"
     ]
    },
    {
     "data": {
      "text/latex": [
       "$\\displaystyle \\left|{f_{\\uparrow+,\\uparrow+}}\\right|^{2} + \\left|{f_{\\uparrow+,\\uparrow-}}\\right|^{2} + \\left|{f_{\\uparrow-,\\uparrow+}}\\right|^{2} + \\left|{f_{\\uparrow-,\\uparrow-}}\\right|^{2}$"
      ],
      "text/plain": [
       "                         2                            2                            2                            2\n",
       "│f_{\\uparrow+,\\uparrow+}│  + │f_{\\uparrow+,\\uparrow-}│  + │f_{\\uparrow-,\\uparrow+}│  + │f_{\\uparrow-,\\uparrow-}│ "
      ]
     },
     "metadata": {},
     "output_type": "display_data"
    },
    {
     "name": "stdout",
     "output_type": "stream",
     "text": [
      "Matrix Decomposition:\n"
     ]
    },
    {
     "data": {
      "text/latex": [
       "$\\displaystyle \\left|{f_{\\uparrow+,\\uparrow+}}\\right|^{2} + \\left|{f_{\\uparrow+,\\uparrow-}}\\right|^{2} + \\left|{f_{\\uparrow-,\\uparrow+}}\\right|^{2} + \\left|{f_{\\uparrow-,\\uparrow-}}\\right|^{2}$"
      ],
      "text/plain": [
       "                         2                            2                            2                            2\n",
       "│f_{\\uparrow+,\\uparrow+}│  + │f_{\\uparrow+,\\uparrow-}│  + │f_{\\uparrow-,\\uparrow+}│  + │f_{\\uparrow-,\\uparrow-}│ "
      ]
     },
     "metadata": {},
     "output_type": "display_data"
    },
    {
     "name": "stdout",
     "output_type": "stream",
     "text": [
      "\n",
      "Triplet S=-1\n",
      "\n",
      "Projection:\n"
     ]
    },
    {
     "data": {
      "text/latex": [
       "$\\displaystyle \\left|{f_{\\downarrow+,\\downarrow+}}\\right|^{2} + \\left|{f_{\\downarrow+,\\downarrow-}}\\right|^{2} + \\left|{f_{\\downarrow-,\\downarrow+}}\\right|^{2} + \\left|{f_{\\downarrow-,\\downarrow-}}\\right|^{2}$"
      ],
      "text/plain": [
       "                             2                                2                                2                                2\n",
       "│f_{\\downarrow+,\\downarrow+}│  + │f_{\\downarrow+,\\downarrow-}│  + │f_{\\downarrow-,\\downarrow+}│  + │f_{\\downarrow-,\\downarrow-}│ "
      ]
     },
     "metadata": {},
     "output_type": "display_data"
    },
    {
     "name": "stdout",
     "output_type": "stream",
     "text": [
      "Matrix Decomposition:\n"
     ]
    },
    {
     "data": {
      "text/latex": [
       "$\\displaystyle \\left|{f_{\\downarrow+,\\downarrow+}}\\right|^{2} + \\left|{f_{\\downarrow+,\\downarrow-}}\\right|^{2} + \\left|{f_{\\downarrow-,\\downarrow+}}\\right|^{2} + \\left|{f_{\\downarrow-,\\downarrow-}}\\right|^{2}$"
      ],
      "text/plain": [
       "                             2                                2                                2                                2\n",
       "│f_{\\downarrow+,\\downarrow+}│  + │f_{\\downarrow+,\\downarrow-}│  + │f_{\\downarrow-,\\downarrow+}│  + │f_{\\downarrow-,\\downarrow-}│ "
      ]
     },
     "metadata": {},
     "output_type": "display_data"
    },
    {
     "name": "stdout",
     "output_type": "stream",
     "text": [
      "\n"
     ]
    }
   ],
   "source": [
    "# build a 4×4 Matrix of Symbols f_{α,β}\n",
    "F = Matrix([[ Symbol(f\"f_{{{i},{j}}}\") for j in basis ] for i in basis ])\n",
    "\n",
    "spin = {\n",
    "    'uu': 'Triplet S=+1',  \n",
    "    'dd': 'Triplet S=-1',\n",
    "    'sym': 'Triplet S=0',\n",
    "    'asym': 'Singlet S=0'\n",
    "}\n",
    "\n",
    "fcomp = {\n",
    "    'uu': ft_p1,  \n",
    "    'dd': ft_m1,\n",
    "    'sym': ft_0,\n",
    "    'asym': fs_0\n",
    "}\n",
    "\n",
    "# loop over spin \n",
    "for s in ['asym', 'sym','uu', 'dd']:\n",
    "\n",
    "    f = 0\n",
    "    # loop over orbitals \n",
    "    for o in ['++', '+-', '-+', '--']:\n",
    "\n",
    "        # evaluate projection\n",
    "        proj = Simpy_Projection(M=F, spin=s, orbital=o)\n",
    "        f += abs(proj)**2\n",
    "\n",
    "    # display projection\n",
    "    print(spin[s])\n",
    "    print()\n",
    "    print('Projection:')\n",
    "    display(f)\n",
    "    print('Matrix Decomposition:')\n",
    "    # display norm of submatrices\n",
    "    display(nsimplify(fcomp[s]))\n",
    "    print()"
   ]
  },
  {
   "cell_type": "markdown",
   "id": "3d9c6090-a7c6-423f-814b-88e25539ca06",
   "metadata": {},
   "source": [
    "### **Induced Pairing**"
   ]
  },
  {
   "cell_type": "code",
   "execution_count": 5,
   "id": "74109afc-2acd-4367-8fe2-26ac844e502a",
   "metadata": {},
   "outputs": [
    {
     "name": "stdout",
     "output_type": "stream",
     "text": [
      "(100, 4, 4)\n"
     ]
    }
   ],
   "source": [
    "# shape of the matrix \n",
    "n = 4\n",
    "\n",
    "# space dimensions\n",
    "K = []; Z = []\n",
    "k_dim = 100; z_dim = 100\n",
    "\n",
    "# read file pairing\n",
    "rows = np.loadtxt(\"Pairing/pairing_L-0.txt\")\n",
    "\n",
    "# store data in matrices\n",
    "F_data = np.empty((k_dim, z_dim, 4, 4), dtype='complex')\n",
    "\n",
    "\n",
    "# loop over momenta\n",
    "for idx in range(k_dim):\n",
    "    \n",
    "    # loop over space\n",
    "    for jdx in range(z_dim):\n",
    "\n",
    "        # index for rows\n",
    "        irow = z_dim * idx + jdx\n",
    "                \n",
    "        # read one row\n",
    "        row = rows[irow]\n",
    "    \n",
    "        if jdx == 0: K.append(float(row[0]))\n",
    "    \n",
    "        if idx == 0: Z.append(float(row[1]))\n",
    "    \n",
    "        # real part\n",
    "        real = row[2 : 2 + n*n].reshape((n, n))\n",
    "        # imaginary part\n",
    "        imag = row[2 + n*n :].reshape((n, n))\n",
    "        # pairing matrix\n",
    "        matrix = real + 1j * imag\n",
    "\n",
    "        F_data[idx][jdx] = Change_Basis(matrix)\n",
    "\n",
    "\n",
    "# take sum over k\n",
    "Favg = np.sum(F_data, axis=0)\n",
    "print(Favg.shape)"
   ]
  },
  {
   "cell_type": "markdown",
   "id": "d970135d-46d6-421d-9def-d7968e8cd3ac",
   "metadata": {},
   "source": [
    "#### <font color='green'> **Singlet-Triplet Decomposition** </font> "
   ]
  },
  {
   "cell_type": "code",
   "execution_count": 16,
   "id": "a67b6724-b348-4b5d-8265-9df2f74702bd",
   "metadata": {},
   "outputs": [
    {
     "name": "stdout",
     "output_type": "stream",
     "text": [
      "Singlet S=0\n",
      "0.2522973628933872\n",
      "\n",
      "Triplet S=0\n",
      "0.24806908451687745\n",
      "\n",
      "Triplet S=+1\n",
      "0.2498167762948679\n",
      "\n",
      "Triplet S=-1\n",
      "0.2498167762948679\n",
      "\n"
     ]
    }
   ],
   "source": [
    "# swap spin only\n",
    "F_swap = np.array([[Block_Reverse(f) for f in F1] for F1 in F_data])\n",
    "\n",
    "# matrices for signlet\n",
    "F_odd = 0.5*(F_data - F_swap)\n",
    "# matrices for triplet\n",
    "F_even = 0.5*(F_data + F_swap)\n",
    "\n",
    "\n",
    "# spin singlet S=0 part\n",
    "Fs_0 = np.sqrt(2)*F_odd[:, :, 0:2, 2:4]; fs_0 = np.linalg.norm(Fs_0, axis=(2, 3))\n",
    "\n",
    "# spin triplet S=0 part\n",
    "Ft_0 = np.sqrt(2)*F_even[:, :, 0:2, 2:4]; ft_0 = np.linalg.norm(Ft_0, axis=(2, 3))\n",
    "# spin triplet S=1 part\n",
    "Ft_p1 = F_even[:, :, 0:2, 0:2]; ft_p1 = np.linalg.norm(Ft_p1, axis=(2, 3))\n",
    "# spin triplet S=-1 part\n",
    "Ft_m1 = F_even[:, :, 2:4, 2:4]; ft_m1 = np.linalg.norm(Ft_m1, axis=(2, 3))\n",
    "\n",
    "\n",
    "norm = np.sum(ft_0+ft_p1+ft_m1+fs_0, axis=0)[0]\n",
    "\n",
    "for f,s in zip([fs_0, ft_0, ft_p1, ft_m1], ['asym', 'sym', 'uu', 'dd']):\n",
    "\n",
    "    print(spin[s])\n",
    "    print( (np.sum(f, axis=0)/norm)[0] )\n",
    "    print()\n",
    "\n",
    "#print(ft_0)"
   ]
  },
  {
   "cell_type": "markdown",
   "id": "b6e22532-d7d7-47ba-84d9-30c9227c5efd",
   "metadata": {},
   "source": [
    "#### <font color='green'> **Singlet-Triplet Projection** </font> "
   ]
  },
  {
   "cell_type": "code",
   "execution_count": 18,
   "id": "a822cb99-fa83-4be5-b0cd-883e40295494",
   "metadata": {},
   "outputs": [
    {
     "name": "stdout",
     "output_type": "stream",
     "text": [
      "Singlet S=0\n",
      "\n",
      "1.2137493878006536e+18\n",
      "498816079664.6414\n",
      "726775929754.4044\n",
      "7.194656557530052e+17\n",
      "Projection:\n",
      "1390401477.6839342\n",
      "Matrix Decomposition:\n",
      "0.2522973628933872\n",
      "\n",
      "Triplet S=0\n",
      "\n",
      "890749693013.7712\n",
      "9.344790087277975e+17\n",
      "9.344791889660596e+17\n",
      "411018803128.88824\n",
      "Projection:\n",
      "1367098935.5062616\n",
      "Matrix Decomposition:\n",
      "0.24806908451687745\n",
      "\n",
      "Triplet S=+1\n",
      "\n",
      "1.4169257138920584e-16\n",
      "1.4941893544599924e-16\n",
      "1.3962837277626243e-16\n",
      "5.653877689682267e-16\n",
      "Projection:\n",
      "3.1561489961338866e-08\n",
      "Matrix Decomposition:\n",
      "0.2498167762948679\n",
      "\n",
      "Triplet S=-1\n",
      "\n",
      "1.4169257138920584e-16\n",
      "1.4941893544599924e-16\n",
      "1.3962837277626243e-16\n",
      "5.653877689682267e-16\n",
      "Projection:\n",
      "3.1561489961338866e-08\n",
      "Matrix Decomposition:\n",
      "0.2498167762948679\n",
      "\n"
     ]
    }
   ],
   "source": [
    "F0 = Favg[0]\n",
    "\n",
    "fproj = np.zeros(4)\n",
    "# loop over spin \n",
    "for fdec,s,idx in zip([fs_0, ft_0, ft_p1, ft_m1], ['asym', 'sym', 'uu', 'dd'], range(4)):\n",
    "\n",
    "    # display projection\n",
    "    print(spin[s])\n",
    "    print()\n",
    "    \n",
    "    # loop over orbitals \n",
    "    for o in ['++', '+-', '-+', '--']:\n",
    "\n",
    "        # evaluate projection\n",
    "        proj = Pairing_Projection(Delta=F0, spin=s, orbital=o)\n",
    "        # sum projections with same spin \n",
    "        fproj[idx] += abs(proj)**2\n",
    "\n",
    "        print(abs(proj)**2)\n",
    "        \n",
    "    fproj[idx] = np.sqrt(fproj[idx])\n",
    "    \n",
    "    \n",
    "    print('Projection:')\n",
    "    print(fproj[idx])\n",
    "    \n",
    "    print('Matrix Decomposition:')\n",
    "    print( (np.sum(fdec, axis=0)/norm)[0] )\n",
    "    print()"
   ]
  }
 ],
 "metadata": {
  "kernelspec": {
   "display_name": "Python 3 (ipykernel)",
   "language": "python",
   "name": "python3"
  },
  "language_info": {
   "codemirror_mode": {
    "name": "ipython",
    "version": 3
   },
   "file_extension": ".py",
   "mimetype": "text/x-python",
   "name": "python",
   "nbconvert_exporter": "python",
   "pygments_lexer": "ipython3",
   "version": "3.10.12"
  }
 },
 "nbformat": 4,
 "nbformat_minor": 5
}
