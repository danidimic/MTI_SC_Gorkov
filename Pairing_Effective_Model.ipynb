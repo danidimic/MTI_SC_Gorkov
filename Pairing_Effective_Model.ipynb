{
 "cells": [
  {
   "cell_type": "markdown",
   "id": "9bf76be6-6839-4591-bd92-e6ffd603753f",
   "metadata": {},
   "source": [
    "# **Effective Model**"
   ]
  },
  {
   "cell_type": "code",
   "execution_count": 1,
   "id": "ef65db31-6586-4a4c-8c2c-fcde0f07606b",
   "metadata": {},
   "outputs": [],
   "source": [
    "import cmath\n",
    "import numpy as np\n",
    "import matplotlib.pyplot as plt\n",
    "\n",
    "from MTI_Second_Order import FMTI2_NeumannBC, Change_Basis\n",
    "\n",
    "# labels for curves\n",
    "Flabels = [[\"$f_{\\\\uparrow +, \\\\uparrow +}$\", \"$f_{\\\\uparrow +, \\downarrow +}$\", \"$f_{\\\\uparrow +, \\\\uparrow -}$\", \"$f_{\\\\uparrow +, \\downarrow -}$\"],\n",
    "          [\"$f_{\\downarrow +, \\\\uparrow +}$\", \"$f_{\\downarrow +, \\downarrow +}$\", \"$f_{\\downarrow +, \\\\uparrow -}$\", \"$f_{\\downarrow +, \\downarrow -}$\"],\n",
    "          [\"$f_{\\\\uparrow -, \\\\uparrow +}$\", \"$f_{\\\\uparrow -, \\downarrow +}$\", \"$f_{\\\\uparrow -, \\\\uparrow -}$\", \"$f_{\\\\uparrow -, \\downarrow -}$\"],\n",
    "          [\"$f_{\\downarrow -, \\\\uparrow +}$\", \"$f_{\\downarrow -, \\downarrow +}$\", \"$f_{\\downarrow -, \\\\uparrow -}$\", \"$f_{\\downarrow -, \\downarrow -}$\"]]\n",
    "\n",
    "# colors for plotting\n",
    "colors_real = ['brown', 'red', 'orange', 'gold']\n",
    "# colors for plotting\n",
    "colors_imag = ['blue','dodgerblue','lightskyblue','cyan']\n",
    "# colors for plotting\n",
    "colors_abs = [\"#0077FF\", \"#00CC00\", \"#FFD700\", \"#FF2200\"]"
   ]
  },
  {
   "cell_type": "markdown",
   "id": "7ae90ed9-18e9-41ec-b529-5d6b30f5ae9b",
   "metadata": {},
   "source": [
    "## **Channel Decomposition** \n",
    "\n",
    "We decompose the induced pairing in a basis of 16 matrices that generates the whole space made by the outer product of spin $\\sigma = \\uparrow, \\downarrow$ and orbital $\\lambda=\\pm$.\n",
    "The $4 \\times 4$ matrix can be decomposed as\n",
    "$$\n",
    "    \\Delta_{ind} (\\mathbf{k},\\omega) = \\sum_A f_A (\\mathbf{k},\\omega) \\Lambda_A \\,,\n",
    "$$\n",
    "where the coefficients of the expansion can be computed through\n",
    "$$\n",
    "    f_A (\\mathbf{k},\\omega) = \n",
    "    \\frac{ \\text{Tr}\\left( \\Lambda_A^\\dagger \\, \\Delta_{ind} (\\mathbf{k},\\omega)  \\right) }\n",
    "    { \\text{Tr}\\left( \\Lambda_A^\\dagger \\, \\Lambda_A  \\right) }\n",
    "$$and $\\{ \\Lambda_A \\}$ is a basis of 16 matrices that generates the whole space.\n",
    "We choose the following basis in spin space\n",
    "$$\n",
    "    \\left\\{ S_a \\right\\} = \n",
    "    \\left\\{ \n",
    "    \\frac12 (\\sigma_0+\\sigma_z), \\frac12 (\\sigma_0-\\sigma_z), \\frac{1}{\\sqrt2} \\sigma_x, \\frac{i}{\\sqrt2} \\sigma_y \n",
    "    \\right\\} \\,,\n",
    "$$\n",
    "where $\\sigma_{x,y,z}$ is the usual set of Pauli matrices acting in spin space.\n",
    "The first three matrices of the basis correspond to symmetric spin triplet channels $f_{\\uparrow\\uparrow}, f_{\\downarrow\\downarrow}$ and $\\frac{1}{\\sqrt2}(f_{\\uparrow\\downarrow} + f_{\\downarrow\\uparrow})$, while the last one correspond to the antisymmetric spin-single channel $\\frac{1}{\\sqrt2}(f_{\\uparrow\\downarrow} - f_{\\downarrow\\uparrow})$.\n",
    "Choosing a similar basis for the orbital part \n",
    "$$\n",
    "    \\left\\{ L_a \\right\\} = \n",
    "    \\left\\{ \n",
    "    \\frac12 (\\lambda_0+\\lambda_z), \\frac12 (\\lambda_0-\\lambda_z), \\frac{1}{\\sqrt2} \\lambda_x, \\frac{i}{\\sqrt2} \\lambda_y \n",
    "    \\right\\} \\,,\n",
    "$$\n",
    "the full set of matrices $\\{ \\Lambda_A \\}$ can be obtained as\n",
    "$$\n",
    "    \\Lambda_A = S_a \\otimes L_\\alpha \\,,\n",
    "$$\n",
    "for $a \\in \\{ \\uparrow\\uparrow, \\downarrow\\downarrow, \\text{sym}, \\text{asym} \\}$ and $\\alpha \\in \\{ ++, --, \\text{sym}, \\text{asym} \\}$, where $\\text{sym}$ ($\\text{asym}$) label the symmetric (antisymmetric) mixed state."
   ]
  },
  {
   "cell_type": "markdown",
   "id": "5ce34071-bab1-47e0-aabc-b442712b4008",
   "metadata": {},
   "source": [
    "#### <font color='green'> **Render Channels** </font> "
   ]
  },
  {
   "cell_type": "code",
   "execution_count": 2,
   "id": "521da19c-0426-47d9-a1d5-ff4baab01bea",
   "metadata": {},
   "outputs": [
    {
     "data": {
      "text/latex": [
       "$\\displaystyle \n",
       "    f_{\\sigma_0, \\tau_0}(\\mathbf{k},\\omega)\n",
       "    \\;=\\;\n",
       "    \\mathrm{Tr}\\!\\Bigl[\n",
       "      (\\sigma_0 \\otimes \\tau_0)\\, \\Delta_{\\mathrm{ind}}(\\mathbf{k},\\omega)\n",
       "    \\Bigr]\n",
       "    \\;=\\;\n",
       "    \\frac{f_{\\downarrow+,\\downarrow+}}{4} + \\frac{f_{\\downarrow-,\\downarrow-}}{4} + \\frac{f_{\\uparrow+,\\uparrow+}}{4} + \\frac{f_{\\uparrow-,\\uparrow-}}{4}\n",
       "    $"
      ],
      "text/plain": [
       "<IPython.core.display.Math object>"
      ]
     },
     "metadata": {},
     "output_type": "display_data"
    },
    {
     "data": {
      "text/latex": [
       "$\\displaystyle \n",
       "    \\sigma_0 \\otimes \\tau_0 \n",
       "    \\;=\\;\n",
       "    \\left[\\begin{matrix}1 & 0 & 0 & 0\\\\0 & 1 & 0 & 0\\\\0 & 0 & 1 & 0\\\\0 & 0 & 0 & 1\\end{matrix}\\right] \\,,\n",
       "    \\qquad\n",
       "    \\left( \\sigma_0 \\otimes \\tau_0 \\right)^\\dagger \n",
       "    \\;=\\;\n",
       "    \\left[\\begin{matrix}1 & 0 & 0 & 0\\\\0 & 1 & 0 & 0\\\\0 & 0 & 1 & 0\\\\0 & 0 & 0 & 1\\end{matrix}\\right]\n",
       "    $"
      ],
      "text/plain": [
       "<IPython.core.display.Math object>"
      ]
     },
     "metadata": {},
     "output_type": "display_data"
    }
   ],
   "source": [
    "from sympy import Matrix, Symbol\n",
    "from Pairing_Effective_Model import Render_Projection, Render_Channel, Pairing_Projection, Pairing_Channel\n",
    "\n",
    "# define your physical basis labels (spin x orbital)\n",
    "basis = [r\"\\uparrow+\", r\"\\uparrow-\", r\"\\downarrow+\", r\"\\downarrow-\"]\n",
    "\n",
    "# build a 4×4 Matrix of Symbols f_{α,β}\n",
    "M = Matrix([[ Symbol(f\"f_{{{i},{j}}}\") for j in basis ] for i in basis ])\n",
    "\n",
    "# spin and ordital indices\n",
    "s = 's0'; o = 't0'\n",
    "\n",
    "# projection \n",
    "Render_Projection(M=M, spin=s, orbital=o)\n",
    "# pairing channel\n",
    "Render_Channel(spin=s, orbital=o)"
   ]
  },
  {
   "cell_type": "markdown",
   "id": "93c1ee62-52b7-4466-b6e3-81b9ba072e76",
   "metadata": {},
   "source": [
    "#### <font color='green'> **Projected Components** </font> "
   ]
  },
  {
   "cell_type": "code",
   "execution_count": 3,
   "id": "0c2b6eda-95ca-48b7-b2fa-46da66378a10",
   "metadata": {},
   "outputs": [
    {
     "name": "stdout",
     "output_type": "stream",
     "text": [
      "trace =  (4+0j)\n",
      "\n",
      "(0.5997315877468452-0.0034443538586635125j)\n",
      "\n",
      "[[1.+0.j 0.+0.j 0.+0.j 0.+0.j]\n",
      " [0.+0.j 1.+0.j 0.+0.j 0.+0.j]\n",
      " [0.+0.j 0.+0.j 1.+0.j 0.+0.j]\n",
      " [0.+0.j 0.+0.j 0.+0.j 1.+0.j]]\n"
     ]
    }
   ],
   "source": [
    "# finite z-lattice\n",
    "d = 100.; z = 25\n",
    "# parameters\n",
    "mu = 0.010; Delta = 0.005; L = 0.020; omega = 0.0025\n",
    "# coupling matrices\n",
    "Gamma = np.matrix([[1,0],[0,1],[1,0],[0,1]])\n",
    "\n",
    "# compute F at given parameters\n",
    "F2 = Change_Basis(FMTI2_NeumannBC(d=d, z=z, Z=z, z0=0, kx=0.01, ky=0., L=L, mu=mu, Delta=Delta, omega=omega, Gamma=Gamma))\n",
    "\n",
    "s = 's0'; o = 't0'\n",
    "\n",
    "proj = Pairing_Projection(Delta=F2, spin=s, orbital=o)\n",
    "print()\n",
    "print(proj)\n",
    "print()\n",
    "\n",
    "# get the matrix corresponding to projection\n",
    "c = Pairing_Channel(spin=s, orbital=o)\n",
    "print(c)"
   ]
  },
  {
   "cell_type": "markdown",
   "id": "3d9c6090-a7c6-423f-814b-88e25539ca06",
   "metadata": {},
   "source": [
    "### **Induced Pairing**"
   ]
  },
  {
   "cell_type": "code",
   "execution_count": 4,
   "id": "74109afc-2acd-4367-8fe2-26ac844e502a",
   "metadata": {},
   "outputs": [
    {
     "name": "stdout",
     "output_type": "stream",
     "text": [
      "(100, 100, 4, 4)\n"
     ]
    }
   ],
   "source": [
    "# shape of the matrix \n",
    "n = 4\n",
    "\n",
    "# space dimensions\n",
    "K = []; Z = []\n",
    "k_dim = 100; z_dim = 100\n",
    "\n",
    "# read file pairing\n",
    "rows = np.loadtxt(\"Pairing/pairing_L-p20.txt\")\n",
    "\n",
    "# store data in matrices\n",
    "F_data = np.empty((k_dim, z_dim, 4, 4), dtype='complex')\n",
    "\n",
    "\n",
    "# loop over momenta\n",
    "for idx in range(k_dim):\n",
    "    \n",
    "    # loop over space\n",
    "    for jdx in range(z_dim):\n",
    "\n",
    "        # index for rows\n",
    "        irow = z_dim * idx + jdx\n",
    "                \n",
    "        # read one row\n",
    "        row = rows[irow]\n",
    "    \n",
    "        if jdx == 0: K.append(float(row[0]))\n",
    "    \n",
    "        if idx == 0: Z.append(float(row[1]))\n",
    "    \n",
    "        # real part\n",
    "        real = row[2 : 2 + n*n].reshape((n, n))\n",
    "        # imaginary part\n",
    "        imag = row[2 + n*n :].reshape((n, n))\n",
    "        # pairing matrix\n",
    "        matrix = real + 1j * imag\n",
    "\n",
    "        F_data[idx][jdx] = Change_Basis(matrix)\n",
    "\n",
    "print(F_data.shape)"
   ]
  },
  {
   "cell_type": "code",
   "execution_count": null,
   "id": "84f9c4e7-df08-49f7-bd5b-4fc024ad57ac",
   "metadata": {},
   "outputs": [],
   "source": []
  }
 ],
 "metadata": {
  "kernelspec": {
   "display_name": "Python 3 (ipykernel)",
   "language": "python",
   "name": "python3"
  },
  "language_info": {
   "codemirror_mode": {
    "name": "ipython",
    "version": 3
   },
   "file_extension": ".py",
   "mimetype": "text/x-python",
   "name": "python",
   "nbconvert_exporter": "python",
   "pygments_lexer": "ipython3",
   "version": "3.10.12"
  }
 },
 "nbformat": 4,
 "nbformat_minor": 5
}
