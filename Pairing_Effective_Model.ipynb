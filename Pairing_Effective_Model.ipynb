{
 "cells": [
  {
   "cell_type": "markdown",
   "id": "9bf76be6-6839-4591-bd92-e6ffd603753f",
   "metadata": {},
   "source": [
    "# **Effective Model**"
   ]
  },
  {
   "cell_type": "code",
   "execution_count": 1,
   "id": "ef65db31-6586-4a4c-8c2c-fcde0f07606b",
   "metadata": {},
   "outputs": [],
   "source": [
    "import cmath\n",
    "import numpy as np\n",
    "import matplotlib.pyplot as plt\n",
    "\n",
    "from MTI_Second_Order import FMTI2_NeumannBC, Change_Basis\n",
    "\n",
    "# labels for curves\n",
    "Flabels = [[\"$f_{\\\\uparrow +, \\\\uparrow +}$\", \"$f_{\\\\uparrow +, \\downarrow +}$\", \"$f_{\\\\uparrow +, \\\\uparrow -}$\", \"$f_{\\\\uparrow +, \\downarrow -}$\"],\n",
    "          [\"$f_{\\downarrow +, \\\\uparrow +}$\", \"$f_{\\downarrow +, \\downarrow +}$\", \"$f_{\\downarrow +, \\\\uparrow -}$\", \"$f_{\\downarrow +, \\downarrow -}$\"],\n",
    "          [\"$f_{\\\\uparrow -, \\\\uparrow +}$\", \"$f_{\\\\uparrow -, \\downarrow +}$\", \"$f_{\\\\uparrow -, \\\\uparrow -}$\", \"$f_{\\\\uparrow -, \\downarrow -}$\"],\n",
    "          [\"$f_{\\downarrow -, \\\\uparrow +}$\", \"$f_{\\downarrow -, \\downarrow +}$\", \"$f_{\\downarrow -, \\\\uparrow -}$\", \"$f_{\\downarrow -, \\downarrow -}$\"]]\n",
    "\n",
    "# colors for plotting\n",
    "colors = [\"#0077FF\", \"#00CC00\", \"#FFD700\", \"#FF2200\"]"
   ]
  },
  {
   "cell_type": "markdown",
   "id": "7ae90ed9-18e9-41ec-b529-5d6b30f5ae9b",
   "metadata": {},
   "source": [
    "## **Channel Decomposition** \n",
    "\n",
    "We decompose the averaged induced pairing $\\overline{\\Delta}_{ind} (z)$ over a basis of 16 matrices that generates the whole space made by the outer product of spin $\\sigma = \\uparrow, \\downarrow$ and orbital $\\lambda=\\pm$.\n",
    "The $4 \\times 4$ matrix can be decomposed as\n",
    "$$\n",
    "    \\overline{\\Delta}_{ind} (z) = \\sum_A f_A (z) \\Lambda_A \\,,\n",
    "$$\n",
    "where the coefficients of the expansion can be computed through\n",
    "$$\n",
    "    f_A (z) = \n",
    "    \\frac{ \\text{Tr}\\left( \\Lambda_A^\\dagger \\, \\Delta_{ind} (z)  \\right) }\n",
    "    { \\text{Tr}\\left( \\Lambda_A^\\dagger \\, \\Lambda_A  \\right) }\n",
    "$$and $\\{ \\Lambda_A \\}$ is a basis of 16 matrices that generates the whole space.\n",
    "\n",
    "\n",
    "For the sake of simplicity, we choose as basis in spin and orbital spaces the set of Pauli matrices \n",
    "$$\n",
    "    S_a = \n",
    "    \\left\\{ \n",
    "    \\sigma_0, \\sigma_x, \\sigma_y, \\sigma_z \n",
    "    \\right\\} \\,,\n",
    "    \\qquad\n",
    "    T_a = \n",
    "    \\left\\{ \n",
    "    \\tau_0, \\tau_x, \\tau_y, \\tau_z \n",
    "    \\right\\} \\,,   \n",
    "$$\n",
    "so that the full set of matrices $\\{ \\Lambda_A \\}$ can be simply obtained as the outer product\n",
    "$$\n",
    "    \\Lambda_A = \\frac{1}{2} \\left( S_a \\otimes L_\\alpha \\right) \\,,\n",
    "$$\n",
    "where the factor $\\frac12$ is used to normalize the Hilbert-Schmidt inner product of the matrices $\\Lambda_A$.\n",
    "Here $a \\in \\{ \\sigma_0, \\sigma_x, \\sigma_y, \\sigma_z \\}$ and $\\alpha \\in \\{ \\tau_0, \\tau_x, \\tau_y, \\tau_z \\}$ denote the matrices of the spin and orbital subspaces."
   ]
  },
  {
   "cell_type": "markdown",
   "id": "5ce34071-bab1-47e0-aabc-b442712b4008",
   "metadata": {},
   "source": [
    "#### <font color='green'> **Render Channels** </font> "
   ]
  },
  {
   "cell_type": "code",
   "execution_count": 2,
   "id": "521da19c-0426-47d9-a1d5-ff4baab01bea",
   "metadata": {},
   "outputs": [
    {
     "data": {
      "text/latex": [
       "$\\displaystyle \n",
       "    f_{\\sigma_z, \\tau_0}(z)\n",
       "    \\;=\\;\n",
       "    \\mathrm{Tr}\\!\\Bigl[\n",
       "      (\\sigma_z \\otimes \\tau_0)\\, \\Delta_{\\mathrm{ind}}(z)\n",
       "    \\Bigr]\n",
       "    \\;=\\;\n",
       "    - \\frac{f_{\\downarrow+,\\downarrow+}}{4} - \\frac{f_{\\downarrow-,\\downarrow-}}{4} + \\frac{f_{\\uparrow+,\\uparrow+}}{4} + \\frac{f_{\\uparrow-,\\uparrow-}}{4}\n",
       "    $"
      ],
      "text/plain": [
       "<IPython.core.display.Math object>"
      ]
     },
     "metadata": {},
     "output_type": "display_data"
    },
    {
     "name": "stdout",
     "output_type": "stream",
     "text": [
      "\n"
     ]
    },
    {
     "data": {
      "text/latex": [
       "$\\displaystyle \n",
       "    \\sigma_z \\otimes \\tau_0 \n",
       "    \\;=\\;\n",
       "    \\left[\\begin{matrix}1 & 0 & 0 & 0\\\\0 & 1 & 0 & 0\\\\0 & 0 & -1 & 0\\\\0 & 0 & 0 & -1\\end{matrix}\\right] \\,,\n",
       "    \\qquad\n",
       "    \\left( \\sigma_z \\otimes \\tau_0 \\right)^T \n",
       "    \\;=\\;\n",
       "    \\left[\\begin{matrix}1 & 0 & 0 & 0\\\\0 & 1 & 0 & 0\\\\0 & 0 & -1 & 0\\\\0 & 0 & 0 & -1\\end{matrix}\\right]\n",
       "    $"
      ],
      "text/plain": [
       "<IPython.core.display.Math object>"
      ]
     },
     "metadata": {},
     "output_type": "display_data"
    }
   ],
   "source": [
    "from sympy import Matrix, Symbol\n",
    "from Pairing_Effective_Model import Render_Projection, Render_Channel, Pairing_Projection, Pairing_Channel, Project_All, Reconstruct\n",
    "\n",
    "# define your physical basis labels (spin x orbital)\n",
    "basis = [r\"\\uparrow+\", r\"\\uparrow-\", r\"\\downarrow+\", r\"\\downarrow-\"]\n",
    "\n",
    "# build a 4×4 Matrix of Symbols f_{α,β}\n",
    "M = Matrix([[ Symbol(f\"f_{{{i},{j}}}\") for j in basis ] for i in basis ])\n",
    "\n",
    "# spin and ordital indices\n",
    "s = 'sz'; o = 't0'\n",
    "\n",
    "# projection \n",
    "Render_Projection(M=M, spin=s, orbital=o)\n",
    "print()\n",
    "# pairing channel\n",
    "Render_Channel(spin=s, orbital=o)"
   ]
  },
  {
   "cell_type": "markdown",
   "id": "3d9c6090-a7c6-423f-814b-88e25539ca06",
   "metadata": {},
   "source": [
    "### **Induced Pairing**"
   ]
  },
  {
   "cell_type": "code",
   "execution_count": 3,
   "id": "74109afc-2acd-4367-8fe2-26ac844e502a",
   "metadata": {},
   "outputs": [
    {
     "name": "stdout",
     "output_type": "stream",
     "text": [
      "(100, 4, 4)\n"
     ]
    }
   ],
   "source": [
    "# shape of the matrix \n",
    "n = 4\n",
    "\n",
    "# space dimensions\n",
    "K = []; Z = []\n",
    "k_dim = 100; z_dim = 100\n",
    "\n",
    "# read file pairing\n",
    "rows = np.loadtxt(\"Pairing/pairing_L-p20.txt\")\n",
    "\n",
    "# store data in matrices\n",
    "F_data = np.empty((k_dim, z_dim, 4, 4), dtype='complex')\n",
    "\n",
    "\n",
    "# loop over momenta\n",
    "for idx in range(k_dim):\n",
    "    \n",
    "    # loop over space\n",
    "    for jdx in range(z_dim):\n",
    "\n",
    "        # index for rows\n",
    "        irow = z_dim * idx + jdx\n",
    "                \n",
    "        # read one row\n",
    "        row = rows[irow]\n",
    "    \n",
    "        if jdx == 0: K.append(float(row[0]))\n",
    "    \n",
    "        if idx == 0: Z.append(float(row[1]))\n",
    "    \n",
    "        # real part\n",
    "        real = row[2 : 2 + n*n].reshape((n, n))\n",
    "        # imaginary part\n",
    "        imag = row[2 + n*n :].reshape((n, n))\n",
    "        # pairing matrix\n",
    "        matrix = real + 1j * imag\n",
    "\n",
    "        F_data[idx][jdx] = Change_Basis(matrix)\n",
    "\n",
    "\n",
    "# take sum over k\n",
    "Favg = np.sum(F_data, axis=0)\n",
    "print(Favg.shape)"
   ]
  },
  {
   "cell_type": "code",
   "execution_count": 4,
   "id": "f01f2aa7-3527-4963-be1c-80be2ac7bfba",
   "metadata": {},
   "outputs": [
    {
     "name": "stdout",
     "output_type": "stream",
     "text": [
      "[0. 0. 0. 0. 0. 0. 0. 0. 0. 0. 0. 0. 0. 0. 0. 0. 0. 0. 0. 0. 0. 0. 0. 0.\n",
      " 0. 0. 0. 0. 0. 0. 0. 0. 0. 0. 0. 0. 0. 0. 0. 0. 0. 0. 0. 0. 0. 0. 0. 0.\n",
      " 0. 0. 0. 0. 0. 0. 0. 0. 0. 0. 0. 0. 0. 0. 0. 0. 0. 0. 0. 0. 0. 0. 0. 0.\n",
      " 0. 0. 0. 0. 0. 0. 0. 0. 0. 0. 0. 0. 0. 0. 0. 0. 0. 0. 0. 0. 0. 0. 0. 0.\n",
      " 0. 0. 0. 0.]\n"
     ]
    }
   ],
   "source": [
    "coeffs = np.array( [Project_All(F, normalize=False) for F in Favg] )\n",
    "\n",
    "F_rec = np.array( [Reconstruct(c) for c in coeffs])\n",
    "\n",
    "check = np.linalg.norm(Favg-F_rec, axis=(1,2))\n",
    "check[ check<1E-6 ] = 0\n",
    "print(check)"
   ]
  },
  {
   "cell_type": "code",
   "execution_count": 5,
   "id": "57e5ae6d-8779-4755-85e5-e8aac76a8bd9",
   "metadata": {},
   "outputs": [
    {
     "name": "stdout",
     "output_type": "stream",
     "text": [
      "(100, 4, 4)\n"
     ]
    },
    {
     "data": {
      "image/png": "[encoded data removed]",
      "text/plain": [
       "<Figure size 1000x600 with 4 Axes>"
      ]
     },
     "metadata": {},
     "output_type": "display_data"
    }
   ],
   "source": [
    "coeffs = np.abs( [Project_All(F) for F in Favg] )\n",
    "coeffs[ coeffs<1E-3 ]=0\n",
    "print(coeffs.shape)\n",
    "\n",
    "# labels\n",
    "label_sigma = [\"$\\sigma_0 i \\sigma_y$\", \"$\\sigma_x i \\sigma_y$\", \"$\\sigma_y i \\sigma_y$\", \"$\\sigma_z i \\sigma_y$\"]\n",
    "label_sigma = [\"$\\sigma_0$\", \"$\\sigma_x$\", \"$\\sigma_y$\", \"$\\sigma_z$\"]\n",
    "label_tau = [\"$\\\\tau_0$\", \"$\\\\tau_x$\", \"$\\\\tau_y$\", \"$\\\\tau_z$\"]\n",
    "\n",
    "\n",
    "# subplots\n",
    "fig, axs = plt.subplots(2,2, figsize=(10,6))\n",
    "axs = axs.flatten()\n",
    "\n",
    "# loop over components\n",
    "for idx in range(4):           \n",
    "    for jdx in range(4):\n",
    "\n",
    "        ax = axs[idx]\n",
    "\n",
    "        ls = '-' if jdx==0 or jdx==1 else '--'\n",
    "        lw = 4 if jdx==0 or jdx==1 else 2\n",
    "        \n",
    "        # plot coefficients f_A(z)\n",
    "        ax.plot(Z, np.power(coeffs[:,idx,jdx],2), lw=3, ls='-', label=label_tau[jdx])\n",
    "    \n",
    "    #ax.set_xlabel(\"$z$\")\n",
    "    ax.set_title(label_sigma[idx])\n",
    "        \n",
    "    ax.tick_params(axis='both', which='major')        \n",
    "    ax.legend()"
   ]
  },
  {
   "cell_type": "code",
   "execution_count": 6,
   "id": "92d2652b-d3f6-488e-a414-1fd33778c0f1",
   "metadata": {},
   "outputs": [
    {
     "data": {
      "text/latex": [
       "$\\displaystyle \n",
       "    f_{\\sigma_x, \\tau_y}(z)\n",
       "    \\;=\\;\n",
       "    \\mathrm{Tr}\\!\\Bigl[\n",
       "      (\\sigma_x \\otimes \\tau_y)\\, \\Delta_{\\mathrm{ind}}(z)\n",
       "    \\Bigr]\n",
       "    \\;=\\;\n",
       "    \\frac{i \\left(f_{\\downarrow+,\\uparrow-} - f_{\\downarrow-,\\uparrow+} + f_{\\uparrow+,\\downarrow-} - f_{\\uparrow-,\\downarrow+}\\right)}{4}\n",
       "    $"
      ],
      "text/plain": [
       "<IPython.core.display.Math object>"
      ]
     },
     "metadata": {},
     "output_type": "display_data"
    },
    {
     "name": "stdout",
     "output_type": "stream",
     "text": [
      "\n"
     ]
    },
    {
     "data": {
      "text/latex": [
       "$\\displaystyle \n",
       "    \\sigma_x \\otimes \\tau_y \n",
       "    \\;=\\;\n",
       "    \\left[\\begin{matrix}0 & 0 & 0 & - i\\\\0 & 0 & i & 0\\\\0 & - i & 0 & 0\\\\i & 0 & 0 & 0\\end{matrix}\\right] \\,,\n",
       "    \\qquad\n",
       "    \\left( \\sigma_x \\otimes \\tau_y \\right)^T \n",
       "    \\;=\\;\n",
       "    \\left[\\begin{matrix}0 & 0 & 0 & i\\\\0 & 0 & - i & 0\\\\0 & i & 0 & 0\\\\- i & 0 & 0 & 0\\end{matrix}\\right]\n",
       "    $"
      ],
      "text/plain": [
       "<IPython.core.display.Math object>"
      ]
     },
     "metadata": {},
     "output_type": "display_data"
    }
   ],
   "source": [
    "s = 'sx'; o = 'ty'\n",
    "\n",
    "Render_Projection(M=M, spin=s, orbital=o)\n",
    "print()\n",
    "Render_Channel(spin=s, orbital=o)"
   ]
  },
  {
   "cell_type": "code",
   "execution_count": 8,
   "id": "caf8711a-8c41-4e8e-96d5-708052530be1",
   "metadata": {},
   "outputs": [
    {
     "data": {
      "text/latex": [
       "$\\displaystyle \n",
       "    f_{\\sigma_y, \\tau_0}(z)\n",
       "    \\;=\\;\n",
       "    \\mathrm{Tr}\\!\\Bigl[\n",
       "      (\\sigma_y \\otimes \\tau_0)\\, \\Delta_{\\mathrm{ind}}(z)\n",
       "    \\Bigr]\n",
       "    \\;=\\;\n",
       "    \\frac{i \\left(- f_{\\downarrow+,\\uparrow+} - f_{\\downarrow-,\\uparrow-} + f_{\\uparrow+,\\downarrow+} + f_{\\uparrow-,\\downarrow-}\\right)}{4}\n",
       "    $"
      ],
      "text/plain": [
       "<IPython.core.display.Math object>"
      ]
     },
     "metadata": {},
     "output_type": "display_data"
    },
    {
     "name": "stdout",
     "output_type": "stream",
     "text": [
      "\n"
     ]
    },
    {
     "data": {
      "text/latex": [
       "$\\displaystyle \n",
       "    \\sigma_y \\otimes \\tau_0 \n",
       "    \\;=\\;\n",
       "    \\left[\\begin{matrix}0 & 0 & - i & 0\\\\0 & 0 & 0 & - i\\\\i & 0 & 0 & 0\\\\0 & i & 0 & 0\\end{matrix}\\right] \\,,\n",
       "    \\qquad\n",
       "    \\left( \\sigma_y \\otimes \\tau_0 \\right)^T \n",
       "    \\;=\\;\n",
       "    \\left[\\begin{matrix}0 & 0 & i & 0\\\\0 & 0 & 0 & i\\\\- i & 0 & 0 & 0\\\\0 & - i & 0 & 0\\end{matrix}\\right]\n",
       "    $"
      ],
      "text/plain": [
       "<IPython.core.display.Math object>"
      ]
     },
     "metadata": {},
     "output_type": "display_data"
    }
   ],
   "source": [
    "s = 'sy'; o = 't0'\n",
    "\n",
    "Render_Projection(M=M, spin=s, orbital=o)\n",
    "print()\n",
    "Render_Channel(spin=s, orbital=o)"
   ]
  },
  {
   "cell_type": "code",
   "execution_count": null,
   "id": "5837a62a-89f3-4c4c-b6e9-db168efa8bfc",
   "metadata": {},
   "outputs": [],
   "source": []
  }
 ],
 "metadata": {
  "kernelspec": {
   "display_name": "Python 3 (ipykernel)",
   "language": "python",
   "name": "python3"
  },
  "language_info": {
   "codemirror_mode": {
    "name": "ipython",
    "version": 3
   },
   "file_extension": ".py",
   "mimetype": "text/x-python",
   "name": "python",
   "nbconvert_exporter": "python",
   "pygments_lexer": "ipython3",
   "version": "3.10.12"
  }
 },
 "nbformat": 4,
 "nbformat_minor": 5
}
